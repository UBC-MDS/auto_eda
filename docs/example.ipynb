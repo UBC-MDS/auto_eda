{
 "cells": [
  {
   "cell_type": "markdown",
   "metadata": {},
   "source": [
    "# Example Usage\n",
    "\n",
    "In this tutorial, you’ll learn a few techniques for array manipulation using mds_array_manipulation. \n",
    "\n",
    "This package is designed to perform array manipulation functions such as Searching, Sorting, Counting non-zero elements, Finding indices of max value.\n",
    "\n",
    "For this tutorial, we'll be using the [housing prices dataset from Kaggle](https://www.kaggle.com/datasets/yasserh/housing-prices-dataset). The dataset lists the price, area and other attributes for a collection of houses from different areas."
   ]
  },
  {
   "cell_type": "markdown",
   "metadata": {},
   "source": [
    "## Imports"
   ]
  },
  {
   "cell_type": "markdown",
   "metadata": {},
   "source": [
    "We'll first load our library along with numpy and pandas, to make some manipulations of the dataset easier."
   ]
  },
  {
   "cell_type": "code",
   "execution_count": 1,
   "metadata": {},
   "outputs": [
    {
     "name": "stderr",
     "output_type": "stream",
     "text": [
      "/var/folders/3m/ss7h9hgd5s9fmzbgh3gs3h9m0000gn/T/ipykernel_41161/949346689.py:4: DeprecationWarning: \n",
      "Pyarrow will become a required dependency of pandas in the next major release of pandas (pandas 3.0),\n",
      "(to allow more performant data types, such as the Arrow string type, and better interoperability with other libraries)\n",
      "but was not found to be installed on your system.\n",
      "If this would cause problems for you,\n",
      "please provide us feedback at https://github.com/pandas-dev/pandas/issues/54466\n",
      "        \n",
      "  import pandas as pd\n"
     ]
    }
   ],
   "source": [
    "import sys\n",
    "import os\n",
    "import numpy as np\n",
    "import pandas as pd\n",
    "module_path = os.path.abspath(os.path.join('..'))\n",
    "sys.path.append(module_path+\"\\\\src\")\n",
    "\n",
    "#Load package functions\n",
    "from mds_array_manipulation.search_array import search_array\n",
    "from mds_array_manipulation.argmax import argmax\n",
    "from mds_array_manipulation.sort_array import sort_array\n",
    "from mds_array_manipulation.count_nonzero_elements import count_nonzero_elements"
   ]
  },
  {
   "cell_type": "markdown",
   "metadata": {},
   "source": [
    "## Load Housing Prices Data"
   ]
  },
  {
   "cell_type": "markdown",
   "metadata": {},
   "source": [
    "We'll load housing price data into a pandas DataFrame and take a quick overview of the dataset's structure and initial entries.\n",
    "\n",
    "We are going to explore different columns in the dataframe using each of the functions in mds_array_manipulation package."
   ]
  },
  {
   "cell_type": "code",
   "execution_count": 2,
   "metadata": {},
   "outputs": [
    {
     "data": {
      "text/html": [
       "<div>\n",
       "<style scoped>\n",
       "    .dataframe tbody tr th:only-of-type {\n",
       "        vertical-align: middle;\n",
       "    }\n",
       "\n",
       "    .dataframe tbody tr th {\n",
       "        vertical-align: top;\n",
       "    }\n",
       "\n",
       "    .dataframe thead th {\n",
       "        text-align: right;\n",
       "    }\n",
       "</style>\n",
       "<table border=\"1\" class=\"dataframe\">\n",
       "  <thead>\n",
       "    <tr style=\"text-align: right;\">\n",
       "      <th></th>\n",
       "      <th>price</th>\n",
       "      <th>area</th>\n",
       "      <th>bedrooms</th>\n",
       "      <th>bathrooms</th>\n",
       "      <th>stories</th>\n",
       "      <th>mainroad</th>\n",
       "      <th>guestroom</th>\n",
       "      <th>basement</th>\n",
       "      <th>hotwaterheating</th>\n",
       "      <th>airconditioning</th>\n",
       "      <th>parking</th>\n",
       "      <th>prefarea</th>\n",
       "      <th>furnishingstatus</th>\n",
       "    </tr>\n",
       "  </thead>\n",
       "  <tbody>\n",
       "    <tr>\n",
       "      <th>0</th>\n",
       "      <td>13300000</td>\n",
       "      <td>7420</td>\n",
       "      <td>4</td>\n",
       "      <td>2</td>\n",
       "      <td>3</td>\n",
       "      <td>yes</td>\n",
       "      <td>no</td>\n",
       "      <td>no</td>\n",
       "      <td>no</td>\n",
       "      <td>yes</td>\n",
       "      <td>2</td>\n",
       "      <td>yes</td>\n",
       "      <td>furnished</td>\n",
       "    </tr>\n",
       "    <tr>\n",
       "      <th>1</th>\n",
       "      <td>12250000</td>\n",
       "      <td>8960</td>\n",
       "      <td>4</td>\n",
       "      <td>4</td>\n",
       "      <td>4</td>\n",
       "      <td>yes</td>\n",
       "      <td>no</td>\n",
       "      <td>no</td>\n",
       "      <td>no</td>\n",
       "      <td>yes</td>\n",
       "      <td>3</td>\n",
       "      <td>no</td>\n",
       "      <td>furnished</td>\n",
       "    </tr>\n",
       "    <tr>\n",
       "      <th>2</th>\n",
       "      <td>12250000</td>\n",
       "      <td>9960</td>\n",
       "      <td>3</td>\n",
       "      <td>2</td>\n",
       "      <td>2</td>\n",
       "      <td>yes</td>\n",
       "      <td>no</td>\n",
       "      <td>yes</td>\n",
       "      <td>no</td>\n",
       "      <td>no</td>\n",
       "      <td>2</td>\n",
       "      <td>yes</td>\n",
       "      <td>semi-furnished</td>\n",
       "    </tr>\n",
       "    <tr>\n",
       "      <th>3</th>\n",
       "      <td>12215000</td>\n",
       "      <td>7500</td>\n",
       "      <td>4</td>\n",
       "      <td>2</td>\n",
       "      <td>2</td>\n",
       "      <td>yes</td>\n",
       "      <td>no</td>\n",
       "      <td>yes</td>\n",
       "      <td>no</td>\n",
       "      <td>yes</td>\n",
       "      <td>3</td>\n",
       "      <td>yes</td>\n",
       "      <td>furnished</td>\n",
       "    </tr>\n",
       "    <tr>\n",
       "      <th>4</th>\n",
       "      <td>11410000</td>\n",
       "      <td>7420</td>\n",
       "      <td>4</td>\n",
       "      <td>1</td>\n",
       "      <td>2</td>\n",
       "      <td>yes</td>\n",
       "      <td>yes</td>\n",
       "      <td>yes</td>\n",
       "      <td>no</td>\n",
       "      <td>yes</td>\n",
       "      <td>2</td>\n",
       "      <td>no</td>\n",
       "      <td>furnished</td>\n",
       "    </tr>\n",
       "  </tbody>\n",
       "</table>\n",
       "</div>"
      ],
      "text/plain": [
       "      price  area  bedrooms  bathrooms  stories mainroad guestroom basement  \\\n",
       "0  13300000  7420         4          2        3      yes        no       no   \n",
       "1  12250000  8960         4          4        4      yes        no       no   \n",
       "2  12250000  9960         3          2        2      yes        no      yes   \n",
       "3  12215000  7500         4          2        2      yes        no      yes   \n",
       "4  11410000  7420         4          1        2      yes       yes      yes   \n",
       "\n",
       "  hotwaterheating airconditioning  parking prefarea furnishingstatus  \n",
       "0              no             yes        2      yes        furnished  \n",
       "1              no             yes        3       no        furnished  \n",
       "2              no              no        2      yes   semi-furnished  \n",
       "3              no             yes        3      yes        furnished  \n",
       "4              no             yes        2       no        furnished  "
      ]
     },
     "execution_count": 2,
     "metadata": {},
     "output_type": "execute_result"
    }
   ],
   "source": [
    "housing_data = pd.read_csv(\"Housing.csv\")\n",
    "housing_data.head()"
   ]
  },
  {
   "cell_type": "markdown",
   "metadata": {},
   "source": [
    "## Search Array"
   ]
  },
  {
   "cell_type": "markdown",
   "metadata": {},
   "source": [
    "Imagine you're searching for a house suitable for you. With many kids, you need a house with 6 bedrooms.\n",
    "\n",
    "We can start by looking at the bedroom count (i.e., column `bedrooms` in the housing price dataset) for the first 30 houses."
   ]
  },
  {
   "cell_type": "code",
   "execution_count": 3,
   "metadata": {},
   "outputs": [
    {
     "data": {
      "text/plain": [
       "array([4, 4, 3, 4, 4, 3, 4, 5, 4, 3, 3, 4, 4, 4, 3, 4, 4, 3, 3, 3, 3, 3,\n",
       "       3, 3, 3, 4, 3, 3, 5, 4])"
      ]
     },
     "execution_count": 3,
     "metadata": {},
     "output_type": "execute_result"
    }
   ],
   "source": [
    "bedroom_data = housing_data['bedrooms'].to_numpy()\n",
    "bedroom_data[0:30]"
   ]
  },
  {
   "cell_type": "markdown",
   "metadata": {},
   "source": [
    "We convert the housing data to a numpy array, to allow us to search it using our `search_array` function, then see if we have a house which fits our criteria (i.e., 6 bedrooms)."
   ]
  },
  {
   "cell_type": "code",
   "execution_count": 4,
   "metadata": {},
   "outputs": [
    {
     "data": {
      "text/plain": [
       "112"
      ]
     },
     "execution_count": 4,
     "metadata": {},
     "output_type": "execute_result"
    }
   ],
   "source": [
    "search_array(bedroom_data, 6)"
   ]
  },
  {
   "cell_type": "markdown",
   "metadata": {},
   "source": [
    "We can index back into our original dataframe to find additional information on this house, to see if it's otherwise suitable for us."
   ]
  },
  {
   "cell_type": "code",
   "execution_count": 5,
   "metadata": {},
   "outputs": [
    {
     "data": {
      "text/plain": [
       "price                 6083000\n",
       "area                     4300\n",
       "bedrooms                    6\n",
       "bathrooms                   2\n",
       "stories                     2\n",
       "mainroad                  yes\n",
       "guestroom                  no\n",
       "basement                   no\n",
       "hotwaterheating            no\n",
       "airconditioning            no\n",
       "parking                     0\n",
       "prefarea                   no\n",
       "furnishingstatus    furnished\n",
       "Name: 112, dtype: object"
      ]
     },
     "execution_count": 5,
     "metadata": {},
     "output_type": "execute_result"
    }
   ],
   "source": [
    "housing_data.loc[112]"
   ]
  },
  {
   "cell_type": "markdown",
   "metadata": {},
   "source": [
    "The information above confirms that our search result is accurate. The house with index 112 does indeed have 6 bedrooms.\n",
    "\n",
    "What about even more bedrooms?"
   ]
  },
  {
   "cell_type": "code",
   "execution_count": 6,
   "metadata": {},
   "outputs": [
    {
     "data": {
      "text/plain": [
       "-1"
      ]
     },
     "execution_count": 6,
     "metadata": {},
     "output_type": "execute_result"
    }
   ],
   "source": [
    "search_array(bedroom_data, 7)"
   ]
  },
  {
   "cell_type": "markdown",
   "metadata": {},
   "source": [
    "There's no houses with 7 bedrooms, so we get a `-1` for the index."
   ]
  },
  {
   "cell_type": "markdown",
   "metadata": {},
   "source": [
    "## Sort Array"
   ]
  },
  {
   "cell_type": "markdown",
   "metadata": {},
   "source": [
    "Imagine you want to know the lowest and highest house prices, as well as the areas, to get a rough idea of the housing market in that region.\n",
    "\n",
    "We can find the house prices and areas information in the `price` and `area` columns repectively. Let's take a look for the first 30 entries."
   ]
  },
  {
   "cell_type": "code",
   "execution_count": 7,
   "metadata": {},
   "outputs": [
    {
     "data": {
      "text/plain": [
       "array([13300000, 12250000, 12250000, 12215000, 11410000, 10850000,\n",
       "       10150000, 10150000,  9870000,  9800000,  9800000,  9681000,\n",
       "        9310000,  9240000,  9240000,  9100000,  9100000,  8960000,\n",
       "        8890000,  8855000,  8750000,  8680000,  8645000,  8645000,\n",
       "        8575000,  8540000,  8463000,  8400000,  8400000,  8400000])"
      ]
     },
     "execution_count": 7,
     "metadata": {},
     "output_type": "execute_result"
    }
   ],
   "source": [
    "price_data = housing_data['price'].to_numpy()\n",
    "price_data[0:30]"
   ]
  },
  {
   "cell_type": "code",
   "execution_count": 8,
   "metadata": {},
   "outputs": [
    {
     "data": {
      "text/plain": [
       "array([ 7420,  8960,  9960,  7500,  7420,  7500,  8580, 16200,  8100,\n",
       "        5750, 13200,  6000,  6550,  3500,  7800,  6000,  6600,  8500,\n",
       "        4600,  6420,  4320,  7155,  8050,  4560,  8800,  6540,  6000,\n",
       "        8875,  7950,  5500])"
      ]
     },
     "execution_count": 8,
     "metadata": {},
     "output_type": "execute_result"
    }
   ],
   "source": [
    "area_data = housing_data['area'].to_numpy()\n",
    "area_data[0:30]"
   ]
  },
  {
   "cell_type": "markdown",
   "metadata": {},
   "source": [
    "Then, we apply the array sorting function to these two columns. (For simplicity, only the first 30 entries are shown.)"
   ]
  },
  {
   "cell_type": "code",
   "execution_count": 9,
   "metadata": {},
   "outputs": [
    {
     "data": {
      "text/plain": [
       "array([1750000, 1750000, 1750000, 1767150, 1820000, 1855000, 1890000,\n",
       "       1890000, 1960000, 2100000, 2100000, 2100000, 2135000, 2233000,\n",
       "       2240000, 2275000, 2275000, 2275000, 2310000, 2345000, 2380000,\n",
       "       2380000, 2380000, 2408000, 2450000, 2450000, 2450000, 2450000,\n",
       "       2450000, 2450000])"
      ]
     },
     "execution_count": 9,
     "metadata": {},
     "output_type": "execute_result"
    }
   ],
   "source": [
    "price_data_sorted = sort_array(price_data)\n",
    "price_data_sorted[0:30]"
   ]
  },
  {
   "cell_type": "code",
   "execution_count": 10,
   "metadata": {},
   "outputs": [
    {
     "data": {
      "text/plain": [
       "array([1650, 1700, 1836, 1905, 1950, 1950, 2000, 2015, 2135, 2145, 2145,\n",
       "       2145, 2145, 2145, 2145, 2160, 2175, 2176, 2275, 2325, 2398, 2400,\n",
       "       2400, 2430, 2475, 2500, 2520, 2550, 2610, 2610])"
      ]
     },
     "execution_count": 10,
     "metadata": {},
     "output_type": "execute_result"
    }
   ],
   "source": [
    "area_data_sorted = sort_array(area_data)\n",
    "area_data_sorted[0:30]"
   ]
  },
  {
   "cell_type": "markdown",
   "metadata": {},
   "source": [
    "As expected, the `sort_array` function arranges the values of these two columns in ascending order, from smallest to largest.\n",
    "\n",
    "We can use the index to obtain the first and last elements of the sorted array, which represent the lowest and highest values, respectively."
   ]
  },
  {
   "cell_type": "code",
   "execution_count": 11,
   "metadata": {},
   "outputs": [
    {
     "name": "stdout",
     "output_type": "stream",
     "text": [
      "Lowest house price:  1750000 dollars\n",
      "Highest house price:  13300000 dollars\n",
      "Lowest house area:  1650 sq ft\n",
      "Highest house area:  16200 sq ft\n"
     ]
    }
   ],
   "source": [
    "print(\"Lowest house price: \" , price_data_sorted[0], \"dollars\")\n",
    "print(\"Highest house price: \" , price_data_sorted[-1], \"dollars\")\n",
    "print(\"Lowest house area: \" , area_data_sorted[0], \"sq ft\")\n",
    "print(\"Highest house area: \" , area_data_sorted[-1], \"sq ft\")"
   ]
  },
  {
   "cell_type": "markdown",
   "metadata": {},
   "source": [
    "Awesome! We have obtained the lowest and highest house prices, as well as the areas, which is exactly what we wanted."
   ]
  },
  {
   "cell_type": "markdown",
   "metadata": {},
   "source": [
    "## Count Non-zero Elements"
   ]
  },
  {
   "cell_type": "markdown",
   "metadata": {},
   "source": [
    "Let's imagine that you want to know the number of houses with parking spaces to guide your planning process for making arrangements to accommodate additional cars at your own property. To achieve this, you can load the data `Housing.csv` and pick `parking` column. The column contains the entries denoting parking and 0 indicates no parking. \n",
    "\n",
    "To filter out the houses without parking spaces, you can use `count_nonzero_elements` from `mds_array_manipulation` package, where it filters out the number of houses without parking spaces.\n"
   ]
  },
  {
   "cell_type": "code",
   "execution_count": 12,
   "metadata": {},
   "outputs": [
    {
     "name": "stdout",
     "output_type": "stream",
     "text": [
      "Houses with Parking space :  246\n",
      "Houses with No Parking Space :  299\n"
     ]
    }
   ],
   "source": [
    "parking_data = housing_data['parking'].to_numpy()\n",
    "\n",
    "parking_houses = count_nonzero_elements(parking_data)\n",
    "noparking_houses = len(parking_data) - parking_houses['Total Non-Zero Elements in Array']\n",
    "print(\"Houses with Parking space : \" ,parking_houses['Total Non-Zero Elements in Array'])\n",
    "print(\"Houses with No Parking Space : \" ,noparking_houses)"
   ]
  },
  {
   "cell_type": "markdown",
   "metadata": {},
   "source": [
    "This insightful analysis, provided us with clear understanding about parking spaces in `housing.csv`. Out of 545 total houses, you have 246 houses equipped with parking space and 299 without parking space."
   ]
  },
  {
   "cell_type": "markdown",
   "metadata": {},
   "source": [
    "## Finding Indices of Maximum Value (argmax)"
   ]
  },
  {
   "cell_type": "code",
   "execution_count": null,
   "metadata": {},
   "outputs": [],
   "source": []
  }
 ],
 "metadata": {
  "kernelspec": {
   "display_name": "522project",
   "language": "python",
   "name": "522project"
  },
  "language_info": {
   "codemirror_mode": {
    "name": "ipython",
    "version": 3
   },
   "file_extension": ".py",
   "mimetype": "text/x-python",
   "name": "python",
   "nbconvert_exporter": "python",
   "pygments_lexer": "ipython3",
   "version": "3.11.6"
  }
 },
 "nbformat": 4,
 "nbformat_minor": 4
}
