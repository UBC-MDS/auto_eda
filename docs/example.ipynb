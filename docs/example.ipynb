{
 "cells": [
  {
   "cell_type": "markdown",
   "metadata": {},
   "source": [
    "# Exploring Housing Prices using array manipulation\n",
    "\n",
    "For this tutorial, we'll be using the [housing prices dataset from Kaggle](https://www.kaggle.com/datasets/yasserh/housing-prices-dataset). The dataset lists the price, area and other attributes for a collection of houses from different areas.\n",
    "\n",
    "We'll first load our library along with numpy and pandas, to make some manipulation of the datasets easier"
   ]
  },
  {
   "cell_type": "code",
   "execution_count": 18,
   "metadata": {},
   "outputs": [],
   "source": [
    "import sys\n",
    "import os\n",
    "import numpy as np\n",
    "import pandas as pd\n",
    "module_path = os.path.abspath(os.path.join('..'))\n",
    "sys.path.append(module_path+\"\\\\src\")\n",
    "\n",
    "#Load package functions\n",
    "from mds_array_manipulation.search_array import search_array\n",
    "from mds_array_manipulation.argmax import argmax\n",
    "from mds_array_manipulation.sort_array import sort_array\n",
    "from mds_array_manipulation.count_nonzero_elements import count_nonzero_elements"
   ]
  },
  {
   "cell_type": "code",
   "execution_count": 8,
   "metadata": {},
   "outputs": [],
   "source": [
    "housing_data = pd.read_csv(\"Housing.csv\")\n",
    "housing_data.head()"
   ]
  },
  {
   "cell_type": "markdown",
   "metadata": {},
   "source": [
    "The data is loaded from our docs folder, and we are going to explore different columns in the dataframe for each of the functions. We can first looks at the bedroom count in each house."
   ]
  },
  {
   "cell_type": "code",
   "execution_count": 16,
   "metadata": {},
   "outputs": [
    {
     "data": {
      "text/plain": [
       "112"
      ]
     },
     "execution_count": 16,
     "metadata": {},
     "output_type": "execute_result"
    }
   ],
   "source": [
    "bedroom_data = housing_data['bedrooms'].to_numpy()\n",
    "search_array(bedroom_data, 6)"
   ]
  },
  {
   "cell_type": "markdown",
   "metadata": {},
   "source": [
    "We convert the housing data to a numpy array, to allow us to search it using our `search_array` function, then see if we have a house which fits our criteria (6 bedrooms)"
   ]
  },
  {
   "cell_type": "code",
   "execution_count": 14,
   "metadata": {},
   "outputs": [
    {
     "data": {
      "text/plain": [
       "price                 6083000\n",
       "area                     4300\n",
       "bedrooms                    6\n",
       "bathrooms                   2\n",
       "stories                     2\n",
       "mainroad                  yes\n",
       "guestroom                  no\n",
       "basement                   no\n",
       "hotwaterheating            no\n",
       "airconditioning            no\n",
       "parking                     0\n",
       "prefarea                   no\n",
       "furnishingstatus    furnished\n",
       "Name: 112, dtype: object"
      ]
     },
     "execution_count": 14,
     "metadata": {},
     "output_type": "execute_result"
    }
   ],
   "source": [
    "housing_data.loc[112]"
   ]
  },
  {
   "cell_type": "markdown",
   "metadata": {},
   "source": [
    "We can index back into our original dataframe to find additional information on this house, to see if it's otherwise suitable for us. What about even more bedrooms?"
   ]
  },
  {
   "cell_type": "code",
   "execution_count": 17,
   "metadata": {},
   "outputs": [
    {
     "data": {
      "text/plain": [
       "-1"
      ]
     },
     "execution_count": 17,
     "metadata": {},
     "output_type": "execute_result"
    }
   ],
   "source": [
    "search_array(bedroom_data, 7)"
   ]
  },
  {
   "cell_type": "markdown",
   "metadata": {},
   "source": [
    "There's no houses with 7 bedrooms, so we get a `-1` for the index"
   ]
  }
 ],
 "metadata": {
  "kernelspec": {
   "display_name": "Python 3 (ipykernel)",
   "language": "python",
   "name": "python3"
  },
  "language_info": {
   "codemirror_mode": {
    "name": "ipython",
    "version": 3
   },
   "file_extension": ".py",
   "mimetype": "text/x-python",
   "name": "python",
   "nbconvert_exporter": "python",
   "pygments_lexer": "ipython3",
   "version": "3.11.7"
  }
 },
 "nbformat": 4,
 "nbformat_minor": 4
}
